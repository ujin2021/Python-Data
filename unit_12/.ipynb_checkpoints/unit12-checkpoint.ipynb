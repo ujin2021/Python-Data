{
 "cells": [
  {
   "cell_type": "code",
   "execution_count": 8,
   "metadata": {
    "scrolled": true
   },
   "outputs": [
    {
     "name": "stdout",
     "output_type": "stream",
     "text": [
      "599\n"
     ]
    },
    {
     "data": {
      "image/png": "[encoded data removed]",
      "text/plain": [
       "<Figure size 432x288 with 1 Axes>"
      ]
     },
     "metadata": {
      "needs_background": "light"
     },
     "output_type": "display_data"
    }
   ],
   "source": [
    "import csv\n",
    "f = open('2020_04_subwayTime.csv')\n",
    "data = csv.reader(f)\n",
    "next(data)\n",
    "next(data)\n",
    "# 아침 7시 승차 인원 출력\n",
    "result = []\n",
    "for row in data :\n",
    "    row[4:] = map(int, row[4:]) # 모두 정수로 변환\n",
    "    result.append(row[10]) # 7시 인덱스는 10\n",
    "print(len(result))\n",
    "# print(result)\n",
    "\n",
    "import matplotlib.pyplot as plt\n",
    "result.sort() # 정렬 후 그리기\n",
    "plt.bar(range(len(result)), result)\n",
    "plt.show()"
   ]
  },
  {
   "cell_type": "code",
   "execution_count": 10,
   "metadata": {},
   "outputs": [
    {
     "name": "stdout",
     "output_type": "stream",
     "text": [
      "599\n"
     ]
    },
    {
     "data": {
      "image/png": "[encoded data removed]",
      "text/plain": [
       "<Figure size 720x216 with 1 Axes>"
      ]
     },
     "metadata": {
      "needs_background": "light"
     },
     "output_type": "display_data"
    }
   ],
   "source": [
    "# 아침 7~9시 승차인원 더하기\n",
    "\n",
    "import csv\n",
    "f = open('2020_04_subwayTime.csv')\n",
    "data = csv.reader(f)\n",
    "next(data)\n",
    "next(data)\n",
    "# 아침 7시 승차 인원 출력\n",
    "result = []\n",
    "for row in data :\n",
    "    row[4:] = map(int, row[4:]) # 모두 정수로 변환\n",
    "    result.append(sum(row[10:15:2])) # 7시 인덱스는 10, 짝수가 승차인원\n",
    "# print(len(result))\n",
    "# print(result)\n",
    "\n",
    "import matplotlib.pyplot as plt\n",
    "plt.figure(figsize = (10, 3))\n",
    "plt.rc('font', family = 'Malgun Gothic')\n",
    "plt.rcParams['axes.unicode_minus'] = False\n",
    "plt.title('7, 8, 9시 승차인원')\n",
    "result.sort() # 정렬 후 그리기\n",
    "plt.bar(range(len(result)), result)\n",
    "plt.show()"
   ]
  },
  {
   "cell_type": "code",
   "execution_count": 11,
   "metadata": {},
   "outputs": [
    {
     "name": "stdout",
     "output_type": "stream",
     "text": [
      "신림(2호선) 615,935 명\n"
     ]
    }
   ],
   "source": [
    "# 아침 7~9 시 승차인원 최대 역 찾기\n",
    "import csv\n",
    "f = open('2020_04_subwayTime.csv')\n",
    "data = csv.reader(f)\n",
    "next(data)\n",
    "next(data)\n",
    "\n",
    "mx = 0\n",
    "mx_station = ''\n",
    "tmp = 0\n",
    "result = []\n",
    "\n",
    "for row in data :\n",
    "    row[4:] = map(int, row[4:]) # 모두 정수로 변환\n",
    "    tmp = sum(row[10:15:2])\n",
    "    if(tmp > mx) :\n",
    "        mx = tmp\n",
    "        mx_station = row[3] + '(' + row[1] + ')'\n",
    "print(mx_station, format(mx, '3,d'), '명')"
   ]
  },
  {
   "cell_type": "code",
   "execution_count": 17,
   "metadata": {},
   "outputs": [
    {
     "name": "stdout",
     "output_type": "stream",
     "text": [
      "최대 승차인원 :  신림(2호선) 615,935 명\n",
      "최대 하차인원 :  강남(2호선) 726,552 명\n"
     ]
    }
   ],
   "source": [
    "# 아침 7~9 승하차 최대 인원 역\n",
    "\n",
    "import csv\n",
    "f = open('2020_04_subwayTime.csv')\n",
    "data = csv.reader(f)\n",
    "next(data)\n",
    "next(data)\n",
    "\n",
    "on_mx = 0 # 승차인원\n",
    "off_mx = 0 # 하차인원\n",
    "on_mx_station = '' # 승차 max 역\n",
    "off_mx_station = '' # 하차 max 역\n",
    "tmp = 0\n",
    "\n",
    "for row in data :\n",
    "    row[4:] = map(int, row[4:]) # 모두 정수로 변환\n",
    "    \n",
    "    # 승차\n",
    "    tmp = sum(row[10:15:2])\n",
    "    if(tmp > on_mx) :\n",
    "        on_mx = tmp\n",
    "        on_mx_station = row[3] + '(' + row[1] + ')'\n",
    "        \n",
    "    # 하차\n",
    "    tmp = sum(row[11:16:2]) # 홀수 column이 하차인원\n",
    "    if tmp > off_mx :\n",
    "        off_mx = tmp\n",
    "        off_mx_station = row[3] + '(' + row[1] + ')'\n",
    "print('최대 승차인원 : ', on_mx_station, format(on_mx, '3,d'), '명')\n",
    "print('최대 하차인원 : ', off_mx_station, format(off_mx, '3,d'), '명')"
   ]
  },
  {
   "cell_type": "code",
   "execution_count": 20,
   "metadata": {},
   "outputs": [
    {
     "name": "stdout",
     "output_type": "stream",
     "text": [
      "시간 : 11\n",
      "11 시 최대 승차 :  신림(2호선) 65,476 명\n",
      "11 시 최대 하차 :  강남(2호선) 94,942 명\n"
     ]
    }
   ],
   "source": [
    "# 특정 시간에 사람들이 가장 많이 타는 역\n",
    "# 승차시간 : 4시(idx: 4), 5시(idx:6), 6시(idx:8)\n",
    "\n",
    "import csv\n",
    "f = open('2020_04_subwayTime.csv')\n",
    "data = csv.reader(f)\n",
    "next(data)\n",
    "next(data)\n",
    "\n",
    "on_mx = 0\n",
    "off_mx = 0\n",
    "on_mx_station = ''\n",
    "off_mx_station = ''\n",
    "tmp = 0\n",
    "\n",
    "t = int(input('시간 : '))\n",
    "tIdx = 4 + (t - 4) * 2 # 그 시간의 승차 인원 idx\n",
    "\n",
    "for row in data : \n",
    "    row[4:] = map(int, row[4:])\n",
    "    \n",
    "    tmp = row[tIdx] # 승차\n",
    "    if(tmp > on_mx) :\n",
    "        on_mx = tmp\n",
    "        on_mx_station = row[3] + '(' + row[1] + ')'\n",
    "    \n",
    "    tmp = row[tIdx+1] # 하차\n",
    "    if(tmp > off_mx) :\n",
    "        off_mx = tmp\n",
    "        off_mx_station = row[3] + '(' + row[1] + ')'\n",
    "print(t, '시 최대 승차 : ' , on_mx_station, format(on_mx, '3,d'), '명')\n",
    "print(t, '시 최대 하차 : ' , off_mx_station, format(off_mx, '3,d'), '명')"
   ]
  },
  {
   "cell_type": "code",
   "execution_count": 22,
   "metadata": {},
   "outputs": [
    {
     "name": "stdout",
     "output_type": "stream",
     "text": [
      "['구로', '신림', '신림', '신림', '신림', '신림', '신림', '신림', '신림', '강남', '강남', '강남', '강남', '강남', '강남', '강남', '강남', '강남', '강남', '강남', '부평', '시청', '왕십리(성동구청)', '']\n",
      "[9443, 36840, 69320, 178407, 270685, 166843, 81566, 65476, 70139, 89329, 94016, 115658, 131646, 202863, 313518, 199444, 147350, 172918, 174617, 63010, 3298, 3, 1, 0]\n"
     ]
    }
   ],
   "source": [
    "# 시간대 별 최대 승/하차 인원 역(새벽 4시 - 새벽3시)\n",
    "import csv\n",
    "f = open('2020_04_subwayTime.csv')\n",
    "data = csv.reader(f)\n",
    "next(data)\n",
    "next(data)\n",
    "\n",
    "mx = [0] * 24 # 시간\n",
    "mx_station = [''] * 24\n",
    "for row in data :\n",
    "    row[4:] = map(int, row[4:])\n",
    "    for j in range(24):\n",
    "        a =row[j*2+4]\n",
    "        if a > mx[j] :\n",
    "            mx[j] = a\n",
    "            mx_station[j] = row[3]\n",
    "print(mx_station)\n",
    "print(mx)"
   ]
  }
 ],
 "metadata": {
  "kernelspec": {
   "display_name": "Python 3",
   "language": "python",
   "name": "python3"
  },
  "language_info": {
   "codemirror_mode": {
    "name": "ipython",
    "version": 3
   },
   "file_extension": ".py",
   "mimetype": "text/x-python",
   "name": "python",
   "nbconvert_exporter": "python",
   "pygments_lexer": "ipython3",
   "version": "3.7.6"
  }
 },
 "nbformat": 4,
 "nbformat_minor": 4
}
