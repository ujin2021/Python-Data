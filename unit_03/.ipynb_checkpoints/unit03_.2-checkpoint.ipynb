{
 "cells": [
  {
   "cell_type": "markdown",
   "metadata": {},
   "source": [
    "Q) 서울이 가장 더웠던 날은 언제였을까? 얼마나 더웠을까? <br>\n",
    "* 가장 더웠던 날의 기준은?\n",
    "* 우리가 갖고 있는 데이터는?\n",
    "=> 기상 관측 아래, 서울 최고 기온이 가장 높았던 날은 언제였고, 몇도였을까? <br>\n",
    "\n",
    "알고리즘 <br>\n",
    "1. 데이터 읽어오기\n",
    "2. 순차적으로 최고 기온 확인\n",
    "3. 최고 기온이 가장 높았던 날짜의 데이터 저장\n",
    "4. 최종 저장된 데이터 출력"
   ]
  },
  {
   "cell_type": "code",
   "execution_count": 2,
   "metadata": {},
   "outputs": [
    {
     "name": "stdout",
     "output_type": "stream",
     "text": [
      "max_date :  2018-08-01 max_temp :  39.6\n"
     ]
    }
   ],
   "source": [
    "import csv\n",
    "max_temp = -999 # 최고 기온 값을 저장할 변수\n",
    "max_date = '' # 최고 기온이 가장 높았던 날짜를 저장할 변수\n",
    "f = open('seoul.csv')\n",
    "data = csv.reader(f)\n",
    "header = next(data)\n",
    "for row in data :\n",
    "    if row[-1] == '' : # 빈 data가 있을 때\n",
    "        row[-1] = -999 # 최고 기온을 구하는 것이므로 -999로 설정\n",
    "    row[-1] = float(row[-1]) # csv file에 기온이 문자형식으로 되어있음\n",
    "    if max_temp < row[-1] :\n",
    "        max_date = row[0]\n",
    "        max_temp = row[-1]\n",
    "f.close()\n",
    "print('max_date : ', max_date, ', max_temp : ', max_temp)"
   ]
  },
  {
   "cell_type": "markdown",
   "metadata": {},
   "source": [
    "Q) 서울에서 최고, 최저 온도를 찾으시오 <br>\n",
    "힌트 : 최고온도 알고리즘 참고"
   ]
  }
 ],
 "metadata": {
  "kernelspec": {
   "display_name": "Python 3",
   "language": "python",
   "name": "python3"
  },
  "language_info": {
   "codemirror_mode": {
    "name": "ipython",
    "version": 3
   },
   "file_extension": ".py",
   "mimetype": "text/x-python",
   "name": "python",
   "nbconvert_exporter": "python",
   "pygments_lexer": "ipython3",
   "version": "3.7.6"
  }
 },
 "nbformat": 4,
 "nbformat_minor": 4
}
