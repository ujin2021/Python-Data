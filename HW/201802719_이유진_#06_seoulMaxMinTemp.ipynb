{
 "cells": [
  {
   "cell_type": "code",
   "execution_count": 2,
   "metadata": {},
   "outputs": [],
   "source": [
    "# 201802719_이유진_#06_seoulMaxMinTemp.ipynb\n",
    "# 정보통신공학과, 201802719, 이유진"
   ]
  },
  {
   "cell_type": "code",
   "execution_count": 3,
   "metadata": {},
   "outputs": [
    {
     "name": "stdout",
     "output_type": "stream",
     "text": [
      "기상 관측 이래 서울의 최고 기온이 가장 높았던 날은 2018-08-01로, 39.6 도 였습니다.\n",
      "기상 관측 이래 서울의 최저 기온이 가장 낮았던 날은 1927-12-31로, -23.1 도 였습니다.\n"
     ]
    }
   ],
   "source": [
    "import csv\n",
    "\n",
    "max_date = '' # 최고 기온이 가장 높았던 날짜\n",
    "max_temp = -999 # 최고 기온이 가장 높은 값\n",
    "min_date = '' # 최저 기온이 가장 낮았던 날짜\n",
    "min_temp = 999 # 최저 기온이 가장 낮은 값\n",
    "\n",
    "f = open('../unit_02/seoul.csv')\n",
    "data = csv.reader(f)\n",
    "header = next(data) # 맨윗줄 attribute\n",
    "for row in data :\n",
    "    if row[-1] == '' : # 빈 data가 있을 때\n",
    "        row[-1] = 0 # 최고, 최저 기온을 구하는 것이므로 0으로 설정\n",
    "    if row[-2] == '' :\n",
    "        row[-2] = 0\n",
    "    row[-1] = float(row[-1]) # csv file에 기온이 문자형식으로 되어있음\n",
    "    row[-2] = float(row[-2])\n",
    "    if max_temp < row[-1] :\n",
    "        max_date = row[0]\n",
    "        max_temp = row[-1]\n",
    "    if min_temp > row[-2] :\n",
    "        min_date = row[0]\n",
    "        min_temp = row[-2]\n",
    "f.close()\n",
    "\n",
    "print('기상 관측 이래 서울의 최고 기온이 가장 높았던 날은 %s로, %.1f 도 였습니다.' % (max_date, max_temp))\n",
    "print('기상 관측 이래 서울의 최저 기온이 가장 낮았던 날은 %s로, %.1f 도 였습니다.' % (min_date, min_temp))"
   ]
  }
 ],
 "metadata": {
  "kernelspec": {
   "display_name": "Python 3",
   "language": "python",
   "name": "python3"
  },
  "language_info": {
   "codemirror_mode": {
    "name": "ipython",
    "version": 3
   },
   "file_extension": ".py",
   "mimetype": "text/x-python",
   "name": "python",
   "nbconvert_exporter": "python",
   "pygments_lexer": "ipython3",
   "version": "3.7.6"
  }
 },
 "nbformat": 4,
 "nbformat_minor": 4
}
