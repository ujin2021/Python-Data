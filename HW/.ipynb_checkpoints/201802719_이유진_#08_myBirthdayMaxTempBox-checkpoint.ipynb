{
 "cells": [
  {
   "cell_type": "code",
   "execution_count": 1,
   "metadata": {},
   "outputs": [],
   "source": [
    "# 201802719_이유진_#08_myBirthdayMaxTempBox\n",
    "# 정보통신공학과, 201802719, 이유진"
   ]
  },
  {
   "cell_type": "code",
   "execution_count": 40,
   "metadata": {},
   "outputs": [
    {
     "name": "stdout",
     "output_type": "stream",
     "text": [
      "High Temp :  [8.5, 5.3, -1.2, 1.4, 1.3, -1.9, -1.0, 3.5, -3.8, -7.6, 1.2, 8.3, 4.3, -0.9, 4.6, 2.9, -5.9, 0.9, -4.1, 2.2, -4.0, -6.4, 8.5, 0.8, -0.2, 0.3, 4.8, -4.9, 0.7, 13.1, -2.0, -0.6, 4.1, -1.3, -4.5, -0.3, 3.2, 6.2, -3.8, 1.6, -4.2, -4.0, -3.1, 7.8, -2.4, -5.5, -0.5, 3.7, -4.1, 3.2, 6.4, 0.7, 3.4, 7.9, -2.0, -8.4, -7.6, -4.9, 2.5, -0.2, 5.7, 1.9, 4.7, -2.3, -0.9, 3.4, 1.4, 0.2, 1.1, 3.3, 2.6, 3.7, 1.4, -4.7, 2.8, 3.4, 6.5, -2.0, 0.6, 5.6, 4.5, 9.1, -6.8, 5.4, -1.5, 1.6, 10.5, 5.1, 5.0, -8.1, 9.3, 6.0, 3.6, -1.0, 0.7, 1.2, 2.8]\n",
      "Low Temp :  [2.6, -5.3, -17.6, -10.3, -4.0, -14.2, -15.1, -2.8, -13.2, -14.8, -6.7, -1.8, 1.0, -12.9, -4.8, -10.5, -15.8, -6.8, -11.3, -9.8, -11.5, -18.2, -0.4, -15.3, -13.1, -7.0, -3.9, -12.4, -9.0, -0.1, -9.3, -8.2, -5.0, -10.9, -12.3, -12.4, -5.1, -2.2, -14.2, -10.8, -12.6, -6.6, -8.4, 0.8, -10.1, -13.8, -9.0, -4.9, -12.4, 0.4, -1.1, -7.6, -5.0, -2.1, -9.7, -16.0, -13.0, -14.0, -7.3, -6.4, -0.1, -6.5, -1.9, -9.5, -10.6, -5.1, -6.0, -2.6, -4.3, -3.9, -4.7, -4.4, -7.9, -10.5, -6.5, -5.5, -0.2, -11.6, -9.1, -3.9, -6.7, -0.6, -13.1, -2.5, -8.3, -7.5, 1.6, -2.6, -4.2, -15.3, 3.7, 3.7, -8.2, -9.1, -7.5, -8.8, -7.4]\n"
     ]
    },
    {
     "data": {
      "image/png": "[encoded data removed]",
      "text/plain": [
       "<Figure size 432x288 with 1 Axes>"
      ]
     },
     "metadata": {
      "needs_background": "light"
     },
     "output_type": "display_data"
    }
   ],
   "source": [
    "import csv\n",
    "import matplotlib.pyplot as plt\n",
    "\n",
    "f = open('../unit_02/seoul.csv')\n",
    "data = csv.reader(f)\n",
    "next(data) # header 제거\n",
    "\n",
    "# 생일의 최고온도, 최저온도 리스트\n",
    "high = []\n",
    "low = [] \n",
    "\n",
    "for row in data :\n",
    "    if(row[-1] != '' and row[-2] != '') : # 값이 있음\n",
    "        if 1920 <= int(row[0].split('-')[0]) <= 2019 : # 1920년 ~ 2019년\n",
    "            if (row[0].split('-')[1] == '02' and row[0].split('-')[2] == '01') : # 내 생일\n",
    "                high.append(float(row[-1])) \n",
    "                low.append(float(row[-2])) \n",
    "                \n",
    "# 최고온도, 최저온도 출력\n",
    "print('High Temp : ', high)\n",
    "print('Low Temp : ', low)\n",
    "\n",
    "# 차트제목 & 축 제목\n",
    "plt.title('My birthday max&min Temp') \n",
    "plt.xlabel('Max&Min')\n",
    "plt.ylabel('Temp(Celsius)')\n",
    "\n",
    "# 1. boxplot 기본출력\n",
    "# plt.boxplot(high)\n",
    "# plt.boxplot(low)\n",
    "\n",
    "# 2. 이상점 삭제하기\n",
    "# plt.boxplot(high, showfliers = False)\n",
    "# plt.boxplot(low, showfliers = False)\n",
    "\n",
    "# 3. 이상점 marker로 표현하기\n",
    "red_square = dict(markerfacecolor = 'r', marker = 's')\n",
    "blue_square = dict(markerfacecolor = 'b', marker = 's')\n",
    "plt.boxplot(high, flierprops = red_square)\n",
    "plt.boxplot(low, flierprops = blue_square)\n",
    "\n",
    "plt.show()"
   ]
  }
 ],
 "metadata": {
  "kernelspec": {
   "display_name": "Python 3",
   "language": "python",
   "name": "python3"
  },
  "language_info": {
   "codemirror_mode": {
    "name": "ipython",
    "version": 3
   },
   "file_extension": ".py",
   "mimetype": "text/x-python",
   "name": "python",
   "nbconvert_exporter": "python",
   "pygments_lexer": "ipython3",
   "version": "3.7.6"
  }
 },
 "nbformat": 4,
 "nbformat_minor": 4
}
